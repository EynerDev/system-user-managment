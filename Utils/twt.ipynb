{
 "cells": [
  {
   "cell_type": "code",
   "execution_count": 2,
   "metadata": {},
   "outputs": [
    {
     "ename": "ModuleNotFoundError",
     "evalue": "No module named 'jwt'",
     "output_type": "error",
     "traceback": [
      "\u001b[1;31m---------------------------------------------------------------------------\u001b[0m",
      "\u001b[1;31mModuleNotFoundError\u001b[0m                       Traceback (most recent call last)",
      "Cell \u001b[1;32mIn[2], line 1\u001b[0m\n\u001b[1;32m----> 1\u001b[0m \u001b[38;5;28;01mimport\u001b[39;00m \u001b[38;5;21;01mjwt\u001b[39;00m\n\u001b[0;32m      2\u001b[0m \u001b[38;5;28;01mimport\u001b[39;00m \u001b[38;5;21;01mdatetime\u001b[39;00m\n\u001b[0;32m      3\u001b[0m \u001b[38;5;28;01mfrom\u001b[39;00m \u001b[38;5;21;01mdotenv\u001b[39;00m \u001b[38;5;28;01mimport\u001b[39;00m load_dotenv\n",
      "\u001b[1;31mModuleNotFoundError\u001b[0m: No module named 'jwt'"
     ]
    }
   ],
   "source": [
    "import jwt\n",
    "import datetime\n",
    "from dotenv import load_dotenv\n",
    "import os\n",
    "\n",
    "load_dotenv()\n",
    "\n",
    "\n",
    "class JWTtoken:\n",
    "\n",
    "    def __init__(self):\n",
    "        self.secret_key = os.getenv(\"SECRET_KEY_JWT\")\n",
    "\n",
    "    def encode(self, data: dict) -> str:\n",
    "\n",
    "\n",
    "        payload = {\n",
    "            **data,\n",
    "            'exp': datetime.datetime.utcnow() + datetime.timedelta(minutes=20)\n",
    "        }\n",
    "\n",
    "        token = jwt.encode(payload, self.secret_key, algorithm='HS256')\n",
    "\n",
    "        return token\n",
    "\n",
    "    def decode(self, token: str) -> dict:\n",
    "\n",
    "        try:\n",
    "\n",
    "            payload = jwt.decode(token, self.secret_key, algorithms=['HS256'])\n",
    "            return payload\n",
    "\n",
    "        except jwt.ExpiredSignatureError:\n",
    "            raise AssertionError(\n",
    "                \"Token expirado. Por favor, inicia sesión nuevamente.\")\n",
    "        except jwt.InvalidTokenError:\n",
    "            raise AssertionError(\"El token ingresado no es valido.\")\n",
    "\n",
    "data = {\n",
    "    'user_name': 'eyner_04',\n",
    "    'user_id' : '1',\n",
    "    'password': 'eyner_03'\n",
    "    \n",
    "}\n",
    "jwt = JWTtoken.encode(data)"
   ]
  },
  {
   "cell_type": "code",
   "execution_count": null,
   "metadata": {},
   "outputs": [],
   "source": []
  },
  {
   "cell_type": "code",
   "execution_count": null,
   "metadata": {},
   "outputs": [],
   "source": []
  },
  {
   "cell_type": "code",
   "execution_count": null,
   "metadata": {},
   "outputs": [],
   "source": []
  },
  {
   "cell_type": "code",
   "execution_count": null,
   "metadata": {},
   "outputs": [],
   "source": []
  }
 ],
 "metadata": {
  "kernelspec": {
   "display_name": "Python 3",
   "language": "python",
   "name": "python3"
  },
  "language_info": {
   "codemirror_mode": {
    "name": "ipython",
    "version": 3
   },
   "file_extension": ".py",
   "mimetype": "text/x-python",
   "name": "python",
   "nbconvert_exporter": "python",
   "pygments_lexer": "ipython3",
   "version": "3.12.1"
  }
 },
 "nbformat": 4,
 "nbformat_minor": 2
}
