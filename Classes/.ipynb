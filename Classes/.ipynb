{
 "cells": [
  {
   "cell_type": "code",
   "execution_count": 16,
   "metadata": {},
   "outputs": [
    {
     "name": "stdout",
     "output_type": "stream",
     "text": [
      "El archivo CSV se ha codificado correctamente en base64.\n",
      "Contenido codificado en base64:\n",
      "VFlQRV9ET0M7ZG9jdW1lbnQ7Zmlyc3RfbmFtZTtsYXN0X25hbWU7ZW1haWw7TlVNQkVSO3VzZXJfcm9sZV9pZDt1c2VyX25hbWU7cGFzc3dvcmQNCmNlZHVsYSBkZSBjaXVkYWRhbmlhOzIzMTEyMTthbmRyZXM7bWlzYXQ7YW5kcmVzQGdtYWlsLmNvbTsyMzI1MTU7YXByZW5kaXo7YW5kcmVzMTI7Y2h1cGExMjMNCnBlcDs1NjU1O3l1cmlzO2Fjb3N0YTt5dXJpc0BnbWlhbC5jb207Njg1NDQ2O2luc3RydWN0b3I7eXVyaXM4OTtzaGFyb2wxMg0K\n"
     ]
    }
   ],
   "source": [
    "import base64\n",
    "\n",
    "def encode_csv_to_base64(file_path):\n",
    "    try:\n",
    "        with open(file_path, 'rb') as file:\n",
    "            # Lee el contenido del archivo CSV en bytes\n",
    "            csv_content = file.read()\n",
    "\n",
    "            # Codifica el contenido del archivo en base64\n",
    "            encoded_content = base64.b64encode(csv_content)\n",
    "\n",
    "            # Convierte los datos codificados en bytes a una cadena de texto\n",
    "            encoded_content_str = encoded_content.decode('utf-8')\n",
    "\n",
    "            return encoded_content_str\n",
    "    except Exception as e:\n",
    "        print(f\"Error al codificar el archivo CSV: {e}\")\n",
    "        return None\n",
    "\n",
    "# Ruta del archivo CSV que deseas codificar\n",
    "file_path = \"user_vscode_2.csv\"\n",
    "\n",
    "# Codificar el archivo CSV en base64\n",
    "encoded_csv = encode_csv_to_base64(file_path)\n",
    "\n",
    "if encoded_csv is not None:\n",
    "    print(\"El archivo CSV se ha codificado correctamente en base64.\")\n",
    "    print(\"Contenido codificado en base64:\")\n",
    "    print(encoded_csv)\n",
    "else:\n",
    "    print(\"Hubo un error al codificar el archivo CSV en base64.\")\n",
    "\n",
    "\n",
    "\n"
   ]
  },
  {
   "cell_type": "code",
   "execution_count": 19,
   "metadata": {},
   "outputs": [
    {
     "name": "stdout",
     "output_type": "stream",
     "text": [
      "El contenido base64 se ha decodificado correctamente y se ha guardado en archivo.csv.\n"
     ]
    }
   ],
   "source": [
    "import base64\n",
    "\n",
    "def decode_base64_to_csv(encoded_content_str, output_file_path):\n",
    "    try:\n",
    "        # Decodificar la cadena base64 a bytes\n",
    "        decoded_content = base64.b64decode(encoded_content_str)\n",
    "\n",
    "        # Escribir los bytes decodificados en un archivo CSV\n",
    "        with open(output_file_path, 'wb') as output_file:\n",
    "            output_file.write(decoded_content)\n",
    "\n",
    "        print(f\"El contenido base64 se ha decodificado correctamente y se ha guardado en {output_file_path}.\")\n",
    "    except Exception as e:\n",
    "        print(f\"Error al decodificar el contenido base64: {e}\")\n",
    "\n",
    "# Cadena base64 que deseas decodificar\n",
    "encoded_content_str = \"VFlQRV9ET0M7ZG9jdW1lbnQ7Zmlyc3RfbmFtZTtsYXN0X25hbWU7ZW1haWw7TlVNQkVSO3VzZXJfcm9sZV9pZDt1c2VyX25hbWU7cGFzc3dvcmQNCmNlZHVsYSBkZSBjaXVkYWRhbmlhOzIzMTEyMTthbmRyZXM7bWlzYXQ7YW5kcmVzQGdtYWlsLmNvbTsyMzI1MTU7YXByZW5kaXo7YW5kcmVzMTI7Y2h1cGExMjMNCnBlcDs1NjU1O3l1cmlzO2Fjb3N0YTt5dXJpc0BnbWlhbC5jb207Njg1NDQ2O2luc3RydWN0b3I7eXVyaXM4OTtzaGFyb2wxMg0K\"\n",
    "\n",
    "\n",
    "\n",
    "\n",
    "\n",
    "# Ruta donde deseas guardar el archivo CSV decodificado\n",
    "output_file_path = 'archivo.csv'\n",
    "\n",
    "# Decodificar la cadena base64 y guardarla como un archivo CSV\n",
    "decode_base64_to_csv(encoded_content_str, output_file_path)\n"
   ]
  }
 ],
 "metadata": {
  "kernelspec": {
   "display_name": "venv",
   "language": "python",
   "name": "python3"
  },
  "language_info": {
   "codemirror_mode": {
    "name": "ipython",
    "version": 3
   },
   "file_extension": ".py",
   "mimetype": "text/x-python",
   "name": "python",
   "nbconvert_exporter": "python",
   "pygments_lexer": "ipython3",
   "version": "3.12.1"
  }
 },
 "nbformat": 4,
 "nbformat_minor": 2
}
